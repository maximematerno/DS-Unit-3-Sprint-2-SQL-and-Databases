{
 "cells": [
  {
   "cell_type": "code",
   "execution_count": 2,
   "metadata": {},
   "outputs": [
    {
     "name": "stdout",
     "output_type": "stream",
     "text": [
      "Collecting psycopg2-binary\n",
      "\u001b[?25l  Downloading https://files.pythonhosted.org/packages/ee/ed/2772267467ba5c21a73d37149da0b49a4343c6646d501dbb1450b492d40a/psycopg2_binary-2.8.3-cp37-cp37m-macosx_10_6_intel.macosx_10_9_intel.macosx_10_9_x86_64.macosx_10_10_intel.macosx_10_10_x86_64.whl (1.5MB)\n",
      "\u001b[K     |████████████████████████████████| 1.6MB 1.6MB/s eta 0:00:01\n",
      "\u001b[?25hInstalling collected packages: psycopg2-binary\n",
      "Successfully installed psycopg2-binary-2.8.3\n"
     ]
    }
   ],
   "source": [
    "!pip install psycopg2-binary"
   ]
  },
  {
   "cell_type": "code",
   "execution_count": 1,
   "metadata": {},
   "outputs": [],
   "source": [
    "import pandas as pd\n",
    "import psycopg2\n",
    "import sqlite3\n",
    "\n",
    "# import data titanic.csv\n",
    "df = pd.read_csv(\"titanic.csv\")\n",
    "df['Name'] = df['Name'].str.replace(\"'\", \" \")"
   ]
  },
  {
   "cell_type": "code",
   "execution_count": 2,
   "metadata": {},
   "outputs": [],
   "source": [
    "# Sqlite3 file and Connect \n",
    "conn = sqlite3.connect('titanic.sqlite3')\n",
    "cursor = conn.cursor()"
   ]
  },
  {
   "cell_type": "code",
   "execution_count": 3,
   "metadata": {},
   "outputs": [
    {
     "name": "stderr",
     "output_type": "stream",
     "text": [
      "/Users/maximevacher-materno/anaconda3/lib/python3.7/site-packages/pandas/core/generic.py:2712: UserWarning: The spaces in these column names will not be changed. In pandas versions < 0.14, spaces were converted to underscores.\n",
      "  method=method,\n"
     ]
    }
   ],
   "source": [
    "# data to sql \n",
    "\n",
    "df.to_sql('titanic', conn, index=False, if_exists='replace')"
   ]
  },
  {
   "cell_type": "code",
   "execution_count": 4,
   "metadata": {},
   "outputs": [],
   "source": [
    "# See data types\n",
    "cursor_s = conn.cursor()\n",
    "query = 'SELECT COUNT(*) FROM titanic;'"
   ]
  },
  {
   "cell_type": "code",
   "execution_count": 7,
   "metadata": {},
   "outputs": [
    {
     "data": {
      "text/plain": [
       "[(0, 'Survived', 'INTEGER', 0, None, 0),\n",
       " (1, 'Pclass', 'INTEGER', 0, None, 0),\n",
       " (2, 'Name', 'TEXT', 0, None, 0),\n",
       " (3, 'Sex', 'TEXT', 0, None, 0),\n",
       " (4, 'Age', 'REAL', 0, None, 0),\n",
       " (5, 'Siblings/Spouses Aboard', 'INTEGER', 0, None, 0),\n",
       " (6, 'Parents/Children Aboard', 'INTEGER', 0, None, 0),\n",
       " (7, 'Fare', 'REAL', 0, None, 0)]"
      ]
     },
     "execution_count": 7,
     "metadata": {},
     "output_type": "execute_result"
    }
   ],
   "source": [
    "cursor_s.execute(query).fetchall()\n",
    "\n",
    "titanic = cursor_s.execute('SELECT * FROM titanic;').fetchall()\n",
    "\n",
    "cursor_s.execute('PRAGMA table_info(titanic);').fetchall()"
   ]
  },
  {
   "cell_type": "code",
   "execution_count": 8,
   "metadata": {},
   "outputs": [],
   "source": [
    "# Psycopg2 + password \n",
    "dbname = 'bbhudnlj'\n",
    "user = 'bbhudnlj'\n",
    "password = 'wvVskx2m_CkKzdz3ET4npCKU3UxkN3hR'\n",
    "host = 'salt.db.elephantsql.com'\n",
    "\n",
    "pg_conn = psycopg2.connect(dbname=dbname, user=user,\n",
    "                        password=password, host=host)\n",
    "\n",
    "pg_conn\n",
    "pg_cursor = pg_conn.cursor()"
   ]
  },
  {
   "cell_type": "code",
   "execution_count": 9,
   "metadata": {},
   "outputs": [],
   "source": [
    "# Create table\n",
    "\n",
    "create_titanic_table = \"\"\"\n",
    "    CREATE TABLE titanic (\n",
    "        index SERIAL PRIMARY KEY,\n",
    "        Survived INT,\n",
    "        Pclass INT,\n",
    "        Name TEXT,\n",
    "        Sex TEXT,\n",
    "        Age REAL,\n",
    "        Siblings_Spouses_Aboard INT,\n",
    "        Parents_Children_Aboard INT,\n",
    "        Fare REAL\n",
    ");\n",
    "\"\"\"\n",
    "pg_cursor.execute(create_titanic_table)"
   ]
  },
  {
   "cell_type": "code",
   "execution_count": 10,
   "metadata": {},
   "outputs": [],
   "source": [
    "# Insert_titanic\n",
    "\n",
    "for t in titanic:\n",
    "    insert_titanic = \"\"\"\n",
    "      INSERT INTO titanic\n",
    "      (Survived, PClass, Name, Sex, Age, Siblings_Spouses_Aboard, Parents_Children_Aboard, Fare)\n",
    "        VALUES \"\"\" + str(titanic[0]) + ';'\n",
    "\n",
    "pg_cursor.execute(insert_titanic)\n",
    "\n",
    "pg_cursor.close()\n",
    "pg_conn.commit()"
   ]
  },
  {
   "cell_type": "code",
   "execution_count": null,
   "metadata": {},
   "outputs": [],
   "source": []
  },
  {
   "cell_type": "code",
   "execution_count": null,
   "metadata": {},
   "outputs": [],
   "source": []
  },
  {
   "cell_type": "code",
   "execution_count": null,
   "metadata": {},
   "outputs": [],
   "source": []
  },
  {
   "cell_type": "code",
   "execution_count": null,
   "metadata": {},
   "outputs": [],
   "source": []
  },
  {
   "cell_type": "code",
   "execution_count": null,
   "metadata": {},
   "outputs": [],
   "source": []
  }
 ],
 "metadata": {
  "kernelspec": {
   "display_name": "Python 3",
   "language": "python",
   "name": "python3"
  },
  "language_info": {
   "codemirror_mode": {
    "name": "ipython",
    "version": 3
   },
   "file_extension": ".py",
   "mimetype": "text/x-python",
   "name": "python",
   "nbconvert_exporter": "python",
   "pygments_lexer": "ipython3",
   "version": "3.7.4"
  }
 },
 "nbformat": 4,
 "nbformat_minor": 2
}
