{
 "cells": [
  {
   "cell_type": "code",
   "execution_count": 1,
   "metadata": {},
   "outputs": [],
   "source": [
    "import sqlite3\n",
    "from tabulate import tabulate"
   ]
  },
  {
   "cell_type": "code",
   "execution_count": 2,
   "metadata": {},
   "outputs": [],
   "source": [
    "conn = sqlite3.connect('rpg_db.sqlite3')"
   ]
  },
  {
   "cell_type": "code",
   "execution_count": 3,
   "metadata": {},
   "outputs": [],
   "source": [
    "cursor = conn.cursor()"
   ]
  },
  {
   "cell_type": "code",
   "execution_count": 4,
   "metadata": {},
   "outputs": [],
   "source": [
    "# How many total Characters?"
   ]
  },
  {
   "cell_type": "code",
   "execution_count": 5,
   "metadata": {},
   "outputs": [
    {
     "name": "stdout",
     "output_type": "stream",
     "text": [
      " The number total of characters is 302.\n"
     ]
    }
   ],
   "source": [
    "total_characters_query = 'SELECT COUNT(*) FROM charactercreator_character;'\n",
    "total_characters = cursor.execute(total_characters_query).fetchone()[0]\n",
    "print(f' The number total of characters is {total_characters}.')\n"
   ]
  },
  {
   "cell_type": "code",
   "execution_count": 6,
   "metadata": {},
   "outputs": [],
   "source": [
    "#How many of each specific subclass?"
   ]
  },
  {
   "cell_type": "code",
   "execution_count": 11,
   "metadata": {},
   "outputs": [
    {
     "name": "stdout",
     "output_type": "stream",
     "text": [
      " the number total of mages is 108.\n",
      " the number total of thiefs is 51.\n",
      " the number total of clerics is 75.\n",
      " the number total of fighters is 68.\n"
     ]
    }
   ],
   "source": [
    "for character in [\n",
    "    'mage', 'thief'\n",
    "    ,'cleric','fighter'\n",
    "]:\n",
    "    query = f' SELECT COUNT(*) FROM charactercreator_{character};'\n",
    "    total_specific_subclass = cursor.execute(query).fetchone()[0]\n",
    "    charater = character if character != 'thieve' else 'thief'\n",
    "    print(f' the number total of {character}s is {total_specific_subclass}.')\n",
    "    \n"
   ]
  },
  {
   "cell_type": "code",
   "execution_count": 12,
   "metadata": {},
   "outputs": [],
   "source": [
    "# How many total Items?"
   ]
  },
  {
   "cell_type": "code",
   "execution_count": 16,
   "metadata": {},
   "outputs": [
    {
     "name": "stdout",
     "output_type": "stream",
     "text": [
      " The total of items is 174.\n"
     ]
    }
   ],
   "source": [
    "total_items_query = 'SELECT COUNT(*) FROM armory_item;'\n",
    "total_items = cursor.execute(total_items_query).fetchone()[0]\n",
    "print(f' The total of items is {total_items}.')"
   ]
  },
  {
   "cell_type": "code",
   "execution_count": 17,
   "metadata": {},
   "outputs": [],
   "source": [
    "# How many of the Items are weapons? are not?"
   ]
  },
  {
   "cell_type": "code",
   "execution_count": 24,
   "metadata": {},
   "outputs": [
    {
     "name": "stdout",
     "output_type": "stream",
     "text": [
      " The total of Items which are weapons is 37 and the total of items which are not weapon is 137\n"
     ]
    }
   ],
   "source": [
    "total_weapons_query= 'SELECT COUNT(*) FROM armory_weapon;'\n",
    "total_weapons = cursor.execute(total_weapons_query).fetchone()[0]\n",
    "print(f' The total of Items which are weapons is {total_weapons} and the total of items which are not weapon is {total_items-total_weapons}')"
   ]
  },
  {
   "cell_type": "code",
   "execution_count": 25,
   "metadata": {},
   "outputs": [],
   "source": [
    "# How many Items does each character have? "
   ]
  },
  {
   "cell_type": "code",
   "execution_count": 43,
   "metadata": {},
   "outputs": [],
   "source": [
    "total_items_character_query = ('''SELECT cc.character_id, cc.name, COUNT(cci.item_id) AS item_count \n",
    "                               FROM charactercreator_character AS cc\n",
    "                               INNER JOIN charactercreator_character_inventory  AS cci\n",
    "                               ON cc.character_id = cci.character_id\n",
    "                               GROUP BY cc.character_id\n",
    "                               LIMIT 20''')"
   ]
  },
  {
   "cell_type": "code",
   "execution_count": 44,
   "metadata": {},
   "outputs": [
    {
     "name": "stdout",
     "output_type": "stream",
     "text": [
      "  ID  Character Name                    Item Count\n",
      "----  ------------------------------  ------------\n",
      "   1  Aliquid iste optio reiciendi               3\n",
      "   2  Optio dolorem ex a                         3\n",
      "   3  Minus c                                    2\n",
      "   4  Sit ut repr                                4\n",
      "   5  At id recusandae expl                      4\n",
      "   6  Non nobis et of                            1\n",
      "   7  Perferendis                                5\n",
      "   8  Accusantium amet quidem eve                3\n",
      "   9  Sed nostrum inventore error m              4\n",
      "  10  Harum repellendus omnis od                 4\n",
      "  11  Itaque ut commodi,                         3\n",
      "  12  Molestiae quis                             3\n",
      "  13  Ali                                        4\n",
      "  14  Tempora quod optio possimus il             4\n",
      "  15  Sed itaque beatae pari                     4\n",
      "  16  Quam dolor                                 1\n",
      "  17  Molestias expedita                         5\n",
      "  18  Lauda                                      5\n",
      "  19  Incidunt sint perferen                     3\n",
      "  20  Laboriosa                                  1\n"
     ]
    }
   ],
   "source": [
    "total_items_character = cursor.execute(total_items_character_query).fetchall()\n",
    "print(tabulate(total_items_character,\n",
    "      headers=['ID', 'Character Name', 'Item Count']))"
   ]
  },
  {
   "cell_type": "code",
   "execution_count": 45,
   "metadata": {},
   "outputs": [],
   "source": [
    "#How many Weapons does each character have? (Return first 20 rows)"
   ]
  },
  {
   "cell_type": "code",
   "execution_count": 48,
   "metadata": {},
   "outputs": [],
   "source": [
    "total_weapons_character_query = ('''SELECT cc.character_id, cc.name, COUNT() AS weapon_count \n",
    "                               FROM charactercreator_character AS cc\n",
    "                               INNER JOIN charactercreator_character_inventory AS cci\n",
    "                               ON cc.character_id = cci.character_id\n",
    "                               INNER JOIN armory_item as ai\n",
    "                               ON cci.item_id = ai.item_id\n",
    "                               INNER JOIN armory_weapon as aw\n",
    "                               ON ai.item_id = aw.item_ptr_id\n",
    "                               GROUP BY cc.character_id\n",
    "                               LIMIT 20''')"
   ]
  },
  {
   "cell_type": "code",
   "execution_count": 49,
   "metadata": {},
   "outputs": [
    {
     "name": "stdout",
     "output_type": "stream",
     "text": [
      "  ID  Character Name                    Weapon Count\n",
      "----  ------------------------------  --------------\n",
      "   5  At id recusandae expl                        2\n",
      "   7  Perferendis                                  1\n",
      "  11  Itaque ut commodi,                           1\n",
      "  20  Laboriosa                                    1\n",
      "  22  Dolorum nam reic                             1\n",
      "  23  Repellat ad numquam volu                     1\n",
      "  26  Doloribus neque                              1\n",
      "  27  Ab voluptas se                               3\n",
      "  29  In pariatur corpori                          2\n",
      "  30  Possimus ad dignissimos vel, a               1\n",
      "  32  Ad necess                                    1\n",
      "  34  Voluptates sunt voluptas volu                1\n",
      "  35  Autem mollitia fuga lauda                    2\n",
      "  36  Sint quibusdam ob                            3\n",
      "  37  Rerum et o                                   2\n",
      "  38  Doloribus dolore r                           2\n",
      "  39  Eaque su                                     2\n",
      "  40  Vel molestias numqua                         1\n",
      "  41  Iste assumenda repellat q                    1\n",
      "  47  Quod tempora                                 1\n"
     ]
    }
   ],
   "source": [
    "total_weapons_character = cursor.execute(total_weapons_character_query).fetchall()\n",
    "print(tabulate(total_weapons_character,\n",
    "               headers=['ID', 'Character Name', 'Weapon Count']))"
   ]
  },
  {
   "cell_type": "code",
   "execution_count": null,
   "metadata": {},
   "outputs": [],
   "source": [
    "# On average, how many Items does each Character have?"
   ]
  },
  {
   "cell_type": "code",
   "execution_count": 50,
   "metadata": {},
   "outputs": [],
   "source": [
    "average_character_items_query = (\"\"\"\n",
    "    SELECT AVG(item_count) FROM\n",
    "    (\n",
    "        SELECT cc.character_id, COUNT(cci.item_id) AS item_count\n",
    "          FROM charactercreator_character AS cc\n",
    "               LEFT JOIN charactercreator_character_inventory AS cci\n",
    "               ON cc.character_id = cci.character_id\n",
    "         GROUP BY cc.character_id\n",
    "    )\n",
    "    ;\"\"\")"
   ]
  },
  {
   "cell_type": "code",
   "execution_count": 54,
   "metadata": {},
   "outputs": [
    {
     "name": "stdout",
     "output_type": "stream",
     "text": [
      " The average of items per player is 2.97\n"
     ]
    }
   ],
   "source": [
    "average_character_items = cursor.execute(average_character_items_query).fetchone()[0]\n",
    "print(f' The average of items per player is {average_character_items:.2f}')"
   ]
  },
  {
   "cell_type": "code",
   "execution_count": 55,
   "metadata": {},
   "outputs": [],
   "source": [
    "# On average, how many Weapons does each character have?"
   ]
  },
  {
   "cell_type": "code",
   "execution_count": 57,
   "metadata": {},
   "outputs": [],
   "source": [
    "average_character_weapons_query = (\"\"\"\n",
    "    SELECT AVG(weapon_count) FROM\n",
    "    (\n",
    "        SELECT cc.character_id, COUNT(aw.item_ptr_id) AS weapon_count\n",
    "          FROM charactercreator_character AS cc\n",
    "               INNER JOIN charactercreator_character_inventory as cci\n",
    "               ON cc.character_id = cci.character_id\n",
    "               INNER JOIN armory_item as ai\n",
    "               ON cci.item_id = ai.item_id\n",
    "               LEFT JOIN armory_weapon as aw\n",
    "               ON ai.item_id = aw.item_ptr_id\n",
    "         GROUP BY cc.character_id\n",
    "    )\n",
    "    ;\"\"\")"
   ]
  },
  {
   "cell_type": "code",
   "execution_count": 58,
   "metadata": {},
   "outputs": [
    {
     "name": "stdout",
     "output_type": "stream",
     "text": [
      " The average of weapons per player is 0.67\n"
     ]
    }
   ],
   "source": [
    "average_character_weapons = cursor.execute(average_character_weapons_query).fetchone()[0]\n",
    "print(f' The average of weapons per player is {average_character_weapons:.2f}')"
   ]
  },
  {
   "cell_type": "code",
   "execution_count": 59,
   "metadata": {},
   "outputs": [],
   "source": [
    "cursor.close()\n",
    "conn.close()"
   ]
  },
  {
   "cell_type": "code",
   "execution_count": null,
   "metadata": {},
   "outputs": [],
   "source": []
  }
 ],
 "metadata": {
  "kernelspec": {
   "display_name": "Python 3",
   "language": "python",
   "name": "python3"
  },
  "language_info": {
   "codemirror_mode": {
    "name": "ipython",
    "version": 3
   },
   "file_extension": ".py",
   "mimetype": "text/x-python",
   "name": "python",
   "nbconvert_exporter": "python",
   "pygments_lexer": "ipython3",
   "version": "3.7.4"
  }
 },
 "nbformat": 4,
 "nbformat_minor": 2
}
