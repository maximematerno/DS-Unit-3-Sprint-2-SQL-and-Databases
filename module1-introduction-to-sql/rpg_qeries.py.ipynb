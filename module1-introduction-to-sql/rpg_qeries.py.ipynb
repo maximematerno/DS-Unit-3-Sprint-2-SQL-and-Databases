{
 "cells": [
  {
   "cell_type": "code",
   "execution_count": 1,
   "metadata": {},
   "outputs": [],
   "source": [
    "import sqlite3\n",
    "from tabulate import tabulate"
   ]
  },
  {
   "cell_type": "code",
   "execution_count": 2,
   "metadata": {},
   "outputs": [],
   "source": [
    "conn = sqlite3.connect('rpg_db.sqlite3')"
   ]
  },
  {
   "cell_type": "code",
   "execution_count": 3,
   "metadata": {},
   "outputs": [],
   "source": [
    "cursor = conn.cursor()"
   ]
  },
  {
   "cell_type": "code",
   "execution_count": 4,
   "metadata": {},
   "outputs": [],
   "source": [
    "# How many total Characters?"
   ]
  },
  {
   "cell_type": "code",
   "execution_count": 5,
   "metadata": {},
   "outputs": [
    {
     "name": "stdout",
     "output_type": "stream",
     "text": [
      " The number total of characters is 302.\n"
     ]
    }
   ],
   "source": [
    "total_characters_query = 'SELECT COUNT(*) FROM charactercreator_character;'\n",
    "total_characters = cursor.execute(total_characters_query).fetchone()[0]\n",
    "print(f' The number total of characters is {total_characters}.')\n"
   ]
  },
  {
   "cell_type": "code",
   "execution_count": 6,
   "metadata": {},
   "outputs": [],
   "source": [
    "#How many of each specific subclass?"
   ]
  },
  {
   "cell_type": "code",
   "execution_count": 11,
   "metadata": {},
   "outputs": [
    {
     "name": "stdout",
     "output_type": "stream",
     "text": [
      " the number total of mages is 108.\n",
      " the number total of thiefs is 51.\n",
      " the number total of clerics is 75.\n",
      " the number total of fighters is 68.\n"
     ]
    }
   ],
   "source": [
    "for character in [\n",
    "    'mage', 'thief'\n",
    "    ,'cleric','fighter'\n",
    "]:\n",
    "    query = f' SELECT COUNT(*) FROM charactercreator_{character};'\n",
    "    total_specific_subclass = cursor.execute(query).fetchone()[0]\n",
    "    charater = character if character != 'thieve' else 'thief'\n",
    "    print(f' the number total of {character}s is {total_specific_subclass}.')\n",
    "    \n"
   ]
  },
  {
   "cell_type": "code",
   "execution_count": 12,
   "metadata": {},
   "outputs": [],
   "source": [
    "# How many total Items?"
   ]
  },
  {
   "cell_type": "code",
   "execution_count": 16,
   "metadata": {},
   "outputs": [
    {
     "name": "stdout",
     "output_type": "stream",
     "text": [
      " The total of items is 174.\n"
     ]
    }
   ],
   "source": [
    "total_items_query = 'SELECT COUNT(*) FROM armory_item;'\n",
    "total_items = cursor.execute(total_items_query).fetchone()[0]\n",
    "print(f' The total of items is {total_items}.')"
   ]
  },
  {
   "cell_type": "code",
   "execution_count": 17,
   "metadata": {},
   "outputs": [],
   "source": [
    "# How many of the Items are weapons? are not?"
   ]
  },
  {
   "cell_type": "code",
   "execution_count": 24,
   "metadata": {},
   "outputs": [
    {
     "name": "stdout",
     "output_type": "stream",
     "text": [
      " The total of Items which are weapons is 37 and the total of items which are not weapon is 137\n"
     ]
    }
   ],
   "source": [
    "total_weapons_query= 'SELECT COUNT(*) FROM armory_weapon;'\n",
    "total_weapons = cursor.execute(total_weapons_query).fetchone()[0]\n",
    "print(f' The total of Items which are weapons is {total_weapons} and the total of items which are not weapon is {total_items-total_weapons}')"
   ]
  },
  {
   "cell_type": "code",
   "execution_count": 25,
   "metadata": {},
   "outputs": [],
   "source": [
    "# How many Items does each character have? "
   ]
  },
  {
   "cell_type": "code",
   "execution_count": 28,
   "metadata": {},
   "outputs": [
    {
     "name": "stdout",
     "output_type": "stream",
     "text": [
      " The total items that each character have is 898\n"
     ]
    }
   ],
   "source": [
    "total_items_character_query= 'SELECT COUNT(*) FROM charactercreator_character_inventory;'\n",
    "total_items_character = cursor.execute(total_items_character_query).fetchone()[0]\n",
    "print(f' The total items that each character have is {total_items_character}')"
   ]
  },
  {
   "cell_type": "code",
   "execution_count": 40,
   "metadata": {},
   "outputs": [],
   "source": [
    "total_items_character_query = ('''SELECT cc.character_id, cc.name, COUNT(cci.item_id) AS item_count \n",
    "                               FROM charactercreator_character AS cc\n",
    "                               INNER JOIN charactercreator_character_inventory  AS cci\n",
    "                               ON cc.character_id = cci.character_id\n",
    "                               GROUP BY cc.character_id\n",
    "                               LIMIT 20''')"
   ]
  },
  {
   "cell_type": "code",
   "execution_count": 42,
   "metadata": {},
   "outputs": [
    {
     "name": "stdout",
     "output_type": "stream",
     "text": [
      "  ID  Character Name                    Item Count\n",
      "----  ------------------------------  ------------\n",
      "   1  Aliquid iste optio reiciendi               3\n",
      "   2  Optio dolorem ex a                         3\n",
      "   3  Minus c                                    2\n",
      "   4  Sit ut repr                                4\n",
      "   5  At id recusandae expl                      4\n",
      "   6  Non nobis et of                            1\n",
      "   7  Perferendis                                5\n",
      "   8  Accusantium amet quidem eve                3\n",
      "   9  Sed nostrum inventore error m              4\n",
      "  10  Harum repellendus omnis od                 4\n",
      "  11  Itaque ut commodi,                         3\n",
      "  12  Molestiae quis                             3\n",
      "  13  Ali                                        4\n",
      "  14  Tempora quod optio possimus il             4\n",
      "  15  Sed itaque beatae pari                     4\n",
      "  16  Quam dolor                                 1\n",
      "  17  Molestias expedita                         5\n",
      "  18  Lauda                                      5\n",
      "  19  Incidunt sint perferen                     3\n",
      "  20  Laboriosa                                  1\n"
     ]
    }
   ],
   "source": [
    "total_items_character = cursor.execute(total_items_character_query).fetchall()\n",
    "print(tabulate(items_per_char,\n",
    "      headers=['ID', 'Character Name', 'Item Count']))"
   ]
  },
  {
   "cell_type": "code",
   "execution_count": 34,
   "metadata": {},
   "outputs": [],
   "source": []
  },
  {
   "cell_type": "code",
   "execution_count": null,
   "metadata": {},
   "outputs": [],
   "source": []
  },
  {
   "cell_type": "code",
   "execution_count": null,
   "metadata": {},
   "outputs": [],
   "source": []
  }
 ],
 "metadata": {
  "kernelspec": {
   "display_name": "Python 3",
   "language": "python",
   "name": "python3"
  },
  "language_info": {
   "codemirror_mode": {
    "name": "ipython",
    "version": 3
   },
   "file_extension": ".py",
   "mimetype": "text/x-python",
   "name": "python",
   "nbconvert_exporter": "python",
   "pygments_lexer": "ipython3",
   "version": "3.7.4"
  }
 },
 "nbformat": 4,
 "nbformat_minor": 2
}
